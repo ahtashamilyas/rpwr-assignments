{
 "cells": [
  {
   "attachments": {
    "25db8d5e-248e-4389-aaf5-85b06a2a34d5.png": {
     "image/png": "[encoded data removed]"
    }
   },
   "cell_type": "markdown",
   "id": "560f5f7c-d645-47a9-b73a-21913d193b38",
   "metadata": {},
   "source": [
    "# Assignment 3 - ROS\n",
    "\n",
    "*15 points*\n",
    "\n",
    "## Create a train of turtles\n",
    "\n",
    "by following and adapting to the TF2 tutorial \n",
    "\n",
    "https://docs.ros.org/en/jazzy/Tutorials/Intermediate/Tf2/Introduction-To-Tf2.html\n",
    "\n",
    "The solution should look something like this example, with at least 3 turtles:\n",
    "\n",
    "![Screenshot from 2025-05-06 18-49-34.png](attachment:25db8d5e-248e-4389-aaf5-85b06a2a34d5.png)\n",
    "\n",
    "Find the 2-turtle demo here: `ros2 launch turtle_tf2_py turtle_tf2_demo.launch.py`"
   ]
  },
  {
   "cell_type": "markdown",
   "id": "d7c4fa3c-bf7e-47dc-9b0f-3e7829499d58",
   "metadata": {},
   "source": [
    "\n",
    "In this assignment you will launch a turtle party of at least 3 turtles, where each turtle follows it's predecessor.: \n",
    "* `turtle1` leads and can be controlled with your keys\n",
    "* `turtle2` follows `turtle1`\n",
    "* `turtle3` follows `turtle2`\n",
    "* ...\n",
    "* `turtleN` follows `turtleN-1`\n",
    "\n",
    "In Task 1 you create a workspace with a python ROS package inside.\n",
    "\n",
    "In Task 2 will provide a node to command a turtle to follow another.\n",
    "\n",
    "In Task 3 you create a launchfile. "
   ]
  },
  {
   "cell_type": "markdown",
   "id": "9ceec166-d7bd-4532-9856-eeb71813af38",
   "metadata": {},
   "source": [
    "### Task 1 - ROS package\n",
    "\n",
    "Create a ROS workspace. In the `src` folder, create a ROS package called `turtle_party` with a node `follow`.\n"
   ]
  },
  {
   "cell_type": "markdown",
   "id": "e1a0622c-d0d5-4081-8060-82107ca347a5",
   "metadata": {
    "tags": []
   },
   "source": [
    "### Task 2 - Turtle chasing\n",
    "\n",
    "You will need the code from the listener tutorial: \n",
    "\n",
    "https://docs.ros.org/en/jazzy/Tutorials/Intermediate/Tf2/Writing-A-Tf2-Listener-Py.html\n",
    "\n",
    "The example Python script includes\n",
    "* spawning turtle2 by calling the ROS service\n",
    "* listening to the transformation between turtle1 and turtle2\n",
    "* calculate and send velocity commands to turtle2, to follow turtle1.\n",
    "\n",
    "Use this example script from the tutorial and adapt it, such that 'turtle2' can be replaced by a ROS parameter, which will be provided when when starting the node.\n",
    "\n",
    "Given that the turtle1 and turtle2 are spawned and both have a TF broadcaster, the `follow` node can be started with\n",
    "\n",
    "`ros2 run turtle_party follow --ros-args -p target_frame:=turtle1 -p turtle_name:=turtle2`\n",
    "\n"
   ]
  },
  {
   "cell_type": "markdown",
   "id": "e051c72e-3e06-4ee2-afa9-39c3ebe99b1d",
   "metadata": {},
   "source": [
    "### Task 3: Launchfile\n",
    "\n",
    "Create a directory `launch` and within the launchfile `turtles_gone_wild.launch` that starts all required files and ROS commands with\n",
    "\n",
    "`ros2 launch turtle_party turtles_gone_wild.launch`.\n",
    "\n",
    "You need to\n",
    "* start the simulation\n",
    "* broadcast each turtles pose to TF\n",
    "* spawn additional turtles and make them move (Task 2)\n",
    "\n",
    "To make launchfiles executable, add them in the `setup.py`. Assuming your launchfile is named `turtles_gone_wild.launch`\n",
    "```python\n",
    "...\n",
    "    data_files=[\n",
    "        ('share/ament_index/resource_index/packages',\n",
    "            ['resource/' + package_name]),\n",
    "        ('share/' + package_name, ['package.xml', 'launch/turtles_gone_wild.launch']),\n",
    "    ],\n",
    "...\n",
    "```"
   ]
  },
  {
   "cell_type": "markdown",
   "id": "93ac4281-cc0c-43a3-b162-c893eaa337d2",
   "metadata": {
    "tags": []
   },
   "source": [
    "## Hints\n",
    "\n",
    "This assignment is best done on your local machine instead of in the binder.\n",
    "\n",
    "Work through the beginner tutorials: https://docs.ros.org/en/jazzy/Tutorials.html\n",
    "\n",
    "Find especially the material on the TF2 library: https://docs.ros.org/en/jazzy/Tutorials/Intermediate/Tf2/Tf2-Main.html"
   ]
  },
  {
   "cell_type": "markdown",
   "id": "691bb563-b3fa-4299-8499-67351b14177b",
   "metadata": {},
   "source": [
    "Use `rqt` to call services like 'spawn' and 'kill'.\n",
    "```\n",
    "rqt\n",
    "```\n",
    "\n",
    "Use `rqt_graph` to visualize the topic network\n",
    "```bash\n",
    "rqt_graph\n",
    "```"
   ]
  },
  {
   "cell_type": "markdown",
   "id": "1a995be8-46f4-47bf-a9b6-f1149a88082a",
   "metadata": {},
   "source": [
    "## Solution\n",
    "\n",
    "After you have finished this assignment, zip your `turtle_party` package as `turtle_party.zip` and push it to your git repo as the solution.\n",
    "\n",
    "To grade your work I will unzip the package in a fresh `ros_ws/src` and do\n",
    "\n",
    "```\n",
    "rosdep install -i --from-paths src --rosdistro jazzy\n",
    "colcon build\n",
    "source install setup.bash\n",
    "ros2 launch turtle_party turtles_gone_wild.launch\n",
    "```"
   ]
  }
 ],
 "metadata": {
  "kernelspec": {
   "display_name": "Python 3 (ipykernel)",
   "language": "python",
   "name": "python3"
  },
  "language_info": {
   "codemirror_mode": {
    "name": "ipython",
    "version": 3
   },
   "file_extension": ".py",
   "mimetype": "text/x-python",
   "name": "python",
   "nbconvert_exporter": "python",
   "pygments_lexer": "ipython3",
   "version": "3.12.10"
  }
 },
 "nbformat": 4,
 "nbformat_minor": 5
}
