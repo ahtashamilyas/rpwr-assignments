{
 "cells": [
  {
   "cell_type": "markdown",
   "id": "560f5f7c-d645-47a9-b73a-21913d193b38",
   "metadata": {},
   "source": [
    "# Assignment 4 - Navigation\n",
    "\n",
    "**Group assignment**\n",
    "\n",
    "*15 points*\n",
    "\n",
    "Group members:\n",
    "* Name Surname - githubuser\n",
    "* Name Surname - githubuser\n",
    "* Name Surname - githubuser\n"
   ]
  },
  {
   "cell_type": "markdown",
   "id": "a159f57c-e41d-4919-a490-e1b5c41c2fba",
   "metadata": {},
   "source": [
    "In this assignment you will work with the turtlebot in the Gazebo simulation. Install Gazebo Ignition on your Ubuntu 24.04 ROS Jazzy system.\n",
    "\n",
    "Use additional material on sensors here: [ROS Humble Binder with Gazebo Classic](https://binder.intel4coro.de/v2/gh/IntEL4CoRo/iis-exercises/dev?urlpath=lab%2Ftree%2F03_sensors%2Foffice.ipynb). It is not graded, but contains helpful material for working with sensors and sending commands. Start with the `office.ipynb` to create a Gazebo sim online. Then move on to the `sensors.ipynb` for understanding the laserscan before solving this Assignment."
   ]
  },
  {
   "cell_type": "markdown",
   "id": "c049afcb-9e34-4e01-bc27-deb65dcd9dda",
   "metadata": {},
   "source": [
    "## Local System Setup\n",
    "(Courtesy by Kishan Ravindra Sawant)\n",
    "- Create a new workspace (e.g., named `ros2_ws`) where you'll clone or develop all your ROS packages. Inside this workspace, create a folder named `src/`. Then, from within the `src/` directory, clone the following repositories,\n",
    "```\n",
    "git clone https://github.com/secorolab/create3_sim.git\n",
    "git clone https://github.com/secorolab/turtlebot4.git\n",
    "git clone https://github.com/secorolab/turtlebot4_simulator.git\n",
    "```\n",
    "- Install the following packages\n",
    "```\n",
    "sudo apt update \n",
    "sudo apt install -y ros-jazzy-control-msgs ros-jazzy-irobot-create-nodes ros-jazzy-turtlebot4-desktop ros-jazzy-controller-manager ros-jazzy-gz-ros2-control\n",
    "```\n",
    "- From the root of your workspace (i.e., ros2_ws/), build the workspace by executing `colcon build --allow-overriding $(colcon list --names-only)`\n",
    "- **Note:** Generally `colcon build` is sufficient to build the packages, but as some of these are also included in the *underlay* workspace, they should be explicitly built with the flag *--allow-overriding*\n",
    "- Every time you build the workspace, you need to **source** it so that your terminal session can recognize the linked libraries. To do this, execute `source install/setup.bash` from the root of your workspace\n",
    "\n",
    "### Simulation\n",
    "- Run TurtleBot4 in simulation\n",
    "```\n",
    "ros2 launch turtlebot4_gz_bringup turtlebot4_gz.launch.py world:=office_area\n",
    "```\n",
    "- Note: For first instance it will take time for the robot and the environment to load. Even after~15 minutes if you do not see the robot in the environment, then rerun the above launch script\n",
    "\n",
    "- Check the laser scan. In the begining of the message you will see it has a 360 degree laser.\n",
    "```\n",
    "ros2 topic echo /scan --once\n",
    "```\n",
    "\n",
    "\n",
    "- To move the robot around, ether use the teleoperation interface from the simulator or execute the following command from the terminal.\n",
    "```\n",
    "ros2 run teleop_twist_keyboard teleop_twist_keyboard --ros-args -p stamped:=true\n",
    "```\n"
   ]
  },
  {
   "cell_type": "markdown",
   "id": "e9b6e7cd-7c73-4a17-8254-218fdf916fef",
   "metadata": {},
   "source": [
    "## Task 1 - Avoid collision\n",
    "\n",
    "Let the robot move forwards. If there is a collision ahead turn on the spot (left or right) until it is safe to move forward again. Continue moving forward. \n",
    "\n",
    "Listen to the `/scan` topic to identify the collision. Connect that detection to a publisher to `/cmd_vel_unstamped`. See the tutorial referenced above for inspiration.\n",
    "\n",
    "Save the behavior as Python file."
   ]
  },
  {
   "cell_type": "markdown",
   "id": "80e9e15c-ee81-4b1c-b67d-26394080a2df",
   "metadata": {
    "tags": []
   },
   "source": [
    "## Task 2 - Follow the wall\n",
    "\n",
    "Write another behavior. This time follow the right wall at a fixed distance.\n",
    "\n",
    "Save the behavior as Python file."
   ]
  },
  {
   "cell_type": "markdown",
   "id": "ae130698-eef8-4990-85cd-b33394fa66ff",
   "metadata": {},
   "source": [
    "## Task 3 - Record a map\n",
    "\n",
    "This task can be developed independently from Task 2 and 3. You need the workspace set up as described in the Local System Setup.\n",
    "\n",
    "### Mapping\n",
    "- We will use Simultaneous Localization and Mapping (SLAM) for robust mapping. Before executing SLAM, check if laser scanner data is being published by echoing to the /scan topic: `ros2 topic echo /scan --once`. If it is being published, then execute the SLAM node\n",
    "```\n",
    "ros2 launch turtlebot4_navigation slam.launch.py use_sim_time:=true\n",
    "```\n",
    "- To visualize the mapping process in rviz, execute the following command\n",
    "```\n",
    "ros2 launch turtlebot4_viz view_navigation.launch.py use_sim_time:=true\n",
    "```\n",
    "- Now move the robot around in the gazebo world to map the indoor environment completely\n",
    "- Once the mapping is completed, from the path `turtlebot4_simulator/turtlebot4_gz_bringup/maps` execute the following command to save the map. Change <map_name> to desired name of the map\n",
    "```\n",
    "ros2 run nav2_map_server map_saver_cli -f <map_name> --occ 0.65 --free 0.15 --ros-args -p save_map_timeout:=20.0\n",
    "```\n",
    "There should now be 2 files, one .pgm and one .yaml in your current directory.\n",
    "\n",
    "### Localization\n",
    "- Localization can be achieved by two ways, one via SLAM when the map is partially known, and other Localization algorithms when a map already exists. We will look into Adaptive Monte-Carlo Localization (AMCL) algorithm for localization\n",
    "- After saving the map, you can stop the mapping node. In a new terminal run the localization node\n",
    "```\n",
    "ros2 launch turtlebot4_navigation localization.launch.py map:=<complete_path_to_map_yaml_config_file>\n",
    "```\n",
    "- Now use the `2D Pose Estimate` from RViz and drag the arrow in the approximate location where the robot is placed. Move the robot around and observe the robot localizing in the environment\n",
    "\n",
    "Submit the 2 map files."
   ]
  },
  {
   "cell_type": "markdown",
   "id": "5da4bb4d-a114-4e67-abeb-b24d875b3402",
   "metadata": {},
   "source": [
    "## Solution\n",
    "\n",
    "Submit the 2 Python files for Task 1 and Task 2 and the 2 files resulting from Task 3. \n",
    "\n",
    "To test your solution \n",
    "- follow the Local System Setup to have Gazebo\n",
    "- run the localization with your map\n",
    "- start the behavior from Task 1\n",
    "- cancel Task 1 and start behavior of Task 2"
   ]
  }
 ],
 "metadata": {
  "kernelspec": {
   "display_name": "Python 3 (ipykernel)",
   "language": "python",
   "name": "python3"
  },
  "language_info": {
   "codemirror_mode": {
    "name": "ipython",
    "version": 3
   },
   "file_extension": ".py",
   "mimetype": "text/x-python",
   "name": "python",
   "nbconvert_exporter": "python",
   "pygments_lexer": "ipython3",
   "version": "3.10.11"
  }
 },
 "nbformat": 4,
 "nbformat_minor": 5
}
